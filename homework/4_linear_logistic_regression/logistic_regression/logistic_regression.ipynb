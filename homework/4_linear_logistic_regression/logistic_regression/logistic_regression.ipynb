{
 "cells": [
  {
   "cell_type": "markdown",
   "metadata": {},
   "source": [
    "### Applied Machine Learning\n",
    "# Logistic Regression\n",
    "\n",
    "<hr>\n"
   ]
  },
  {
   "cell_type": "code",
   "execution_count": 1,
   "metadata": {},
   "outputs": [],
   "source": [
    "# importing libraries \n",
    "from IPython.display import display\n",
    "import pandas as pd\n",
    "import numpy as np\n",
    "from sklearn.linear_model import LogisticRegression\n",
    "from sklearn.model_selection import train_test_split\n",
    "from sklearn.metrics import classification_report"
   ]
  },
  {
   "cell_type": "code",
   "execution_count": 2,
   "metadata": {
    "scrolled": false
   },
   "outputs": [
    {
     "name": "stdout",
     "output_type": "stream",
     "text": [
      "Index(['PassengerId', 'Survived', 'Pclass', 'Name', 'Sex', 'Age', 'SibSp',\n",
      "       'Parch', 'Ticket', 'Fare', 'Cabin', 'Embarked'],\n",
      "      dtype='object')\n"
     ]
    },
    {
     "data": {
      "text/plain": [
       "PassengerId      0\n",
       "Survived         0\n",
       "Pclass           0\n",
       "Name             0\n",
       "Sex              0\n",
       "Age            177\n",
       "SibSp            0\n",
       "Parch            0\n",
       "Ticket           0\n",
       "Fare             0\n",
       "Cabin          687\n",
       "Embarked         2\n",
       "dtype: int64"
      ]
     },
     "metadata": {},
     "output_type": "display_data"
    },
    {
     "name": "stdout",
     "output_type": "stream",
     "text": [
      "Total: 891\n"
     ]
    },
    {
     "data": {
      "text/plain": [
       "PassengerId      0\n",
       "Survived         0\n",
       "Pclass           0\n",
       "Name             0\n",
       "Sex              0\n",
       "Age              0\n",
       "SibSp            0\n",
       "Parch            0\n",
       "Ticket           0\n",
       "Fare             0\n",
       "Cabin          687\n",
       "Embarked         0\n",
       "dtype: int64"
      ]
     },
     "metadata": {},
     "output_type": "display_data"
    },
    {
     "name": "stdout",
     "output_type": "stream",
     "text": [
      "Total: 889\n"
     ]
    },
    {
     "data": {
      "text/html": [
       "<div>\n",
       "<style scoped>\n",
       "    .dataframe tbody tr th:only-of-type {\n",
       "        vertical-align: middle;\n",
       "    }\n",
       "\n",
       "    .dataframe tbody tr th {\n",
       "        vertical-align: top;\n",
       "    }\n",
       "\n",
       "    .dataframe thead th {\n",
       "        text-align: right;\n",
       "    }\n",
       "</style>\n",
       "<table border=\"1\" class=\"dataframe\">\n",
       "  <thead>\n",
       "    <tr style=\"text-align: right;\">\n",
       "      <th></th>\n",
       "      <th>PassengerId</th>\n",
       "      <th>Survived</th>\n",
       "      <th>Pclass</th>\n",
       "      <th>Name</th>\n",
       "      <th>Sex</th>\n",
       "      <th>Age</th>\n",
       "      <th>SibSp</th>\n",
       "      <th>Parch</th>\n",
       "      <th>Ticket</th>\n",
       "      <th>Fare</th>\n",
       "      <th>Cabin</th>\n",
       "      <th>Embarked</th>\n",
       "    </tr>\n",
       "  </thead>\n",
       "  <tbody>\n",
       "    <tr>\n",
       "      <th>0</th>\n",
       "      <td>1</td>\n",
       "      <td>0</td>\n",
       "      <td>3</td>\n",
       "      <td>Braund, Mr. Owen Harris</td>\n",
       "      <td>1</td>\n",
       "      <td>22.0</td>\n",
       "      <td>1</td>\n",
       "      <td>0</td>\n",
       "      <td>522</td>\n",
       "      <td>7.2500</td>\n",
       "      <td>-1</td>\n",
       "      <td>2</td>\n",
       "    </tr>\n",
       "    <tr>\n",
       "      <th>1</th>\n",
       "      <td>2</td>\n",
       "      <td>1</td>\n",
       "      <td>1</td>\n",
       "      <td>Cumings, Mrs. John Bradley (Florence Briggs Th...</td>\n",
       "      <td>0</td>\n",
       "      <td>38.0</td>\n",
       "      <td>1</td>\n",
       "      <td>0</td>\n",
       "      <td>595</td>\n",
       "      <td>71.2833</td>\n",
       "      <td>80</td>\n",
       "      <td>0</td>\n",
       "    </tr>\n",
       "    <tr>\n",
       "      <th>2</th>\n",
       "      <td>3</td>\n",
       "      <td>1</td>\n",
       "      <td>3</td>\n",
       "      <td>Heikkinen, Miss. Laina</td>\n",
       "      <td>0</td>\n",
       "      <td>26.0</td>\n",
       "      <td>0</td>\n",
       "      <td>0</td>\n",
       "      <td>668</td>\n",
       "      <td>7.9250</td>\n",
       "      <td>-1</td>\n",
       "      <td>2</td>\n",
       "    </tr>\n",
       "    <tr>\n",
       "      <th>3</th>\n",
       "      <td>4</td>\n",
       "      <td>1</td>\n",
       "      <td>1</td>\n",
       "      <td>Futrelle, Mrs. Jacques Heath (Lily May Peel)</td>\n",
       "      <td>0</td>\n",
       "      <td>35.0</td>\n",
       "      <td>1</td>\n",
       "      <td>0</td>\n",
       "      <td>48</td>\n",
       "      <td>53.1000</td>\n",
       "      <td>54</td>\n",
       "      <td>2</td>\n",
       "    </tr>\n",
       "    <tr>\n",
       "      <th>4</th>\n",
       "      <td>5</td>\n",
       "      <td>0</td>\n",
       "      <td>3</td>\n",
       "      <td>Allen, Mr. William Henry</td>\n",
       "      <td>1</td>\n",
       "      <td>35.0</td>\n",
       "      <td>0</td>\n",
       "      <td>0</td>\n",
       "      <td>471</td>\n",
       "      <td>8.0500</td>\n",
       "      <td>-1</td>\n",
       "      <td>2</td>\n",
       "    </tr>\n",
       "  </tbody>\n",
       "</table>\n",
       "</div>"
      ],
      "text/plain": [
       "   PassengerId  Survived  Pclass  \\\n",
       "0            1         0       3   \n",
       "1            2         1       1   \n",
       "2            3         1       3   \n",
       "3            4         1       1   \n",
       "4            5         0       3   \n",
       "\n",
       "                                                Name  Sex   Age  SibSp  Parch  \\\n",
       "0                            Braund, Mr. Owen Harris    1  22.0      1      0   \n",
       "1  Cumings, Mrs. John Bradley (Florence Briggs Th...    0  38.0      1      0   \n",
       "2                             Heikkinen, Miss. Laina    0  26.0      0      0   \n",
       "3       Futrelle, Mrs. Jacques Heath (Lily May Peel)    0  35.0      1      0   \n",
       "4                           Allen, Mr. William Henry    1  35.0      0      0   \n",
       "\n",
       "   Ticket     Fare  Cabin  Embarked  \n",
       "0     522   7.2500     -1         2  \n",
       "1     595  71.2833     80         0  \n",
       "2     668   7.9250     -1         2  \n",
       "3      48  53.1000     54         2  \n",
       "4     471   8.0500     -1         2  "
      ]
     },
     "metadata": {},
     "output_type": "display_data"
    }
   ],
   "source": [
    "# load training dataset \n",
    "titanic_train = pd.read_csv(\"titanic_train.csv\")\n",
    "\n",
    "#titanic_train = titanic_train.dropna()\n",
    "print(titanic_train.columns)\n",
    "display(titanic_train.isnull().sum()) # display missing values \n",
    "print(\"Total:\", titanic_train.shape[0])\n",
    "\n",
    "# dropping rows with missing Embarked\n",
    "titanic_train = titanic_train[pd.notnull(titanic_train[\"Embarked\"])]\n",
    "\n",
    "# setting missing age to mean \n",
    "titanic_age = titanic_train[pd.notnull(titanic_train[\"Age\"])][\"Age\"]\n",
    "titanic_age_mean = round(sum(titanic_age) / len(titanic_age))\n",
    "titanic_train[\"Age\"] = titanic_train[\"Age\"].replace(np.nan, titanic_age_mean)\n",
    "\n",
    "display(titanic_train.isnull().sum())\n",
    "print(\"Total:\", titanic_train.shape[0])\n",
    "\n",
    "# cleaning cabin removing numbers and keeping letters only \n",
    "#titanic_train[\"Cabin\"] = titanic_train[\"Cabin\"].str.replace(\"[^ABCDEFGHIJKLMNOPQRSTUVWXYZ]\", \"\")\n",
    "#display(titanic_train[\"Cabin\"].value_counts())\n",
    "#titanic_train[\"Ticket\"] = titanic_train[\"Ticket\"].str.replace(\"[^ABCDEFGHIJKLMNOPQRSTUVWXYZ]\", \"\")\n",
    "#display(titanic_train[\"Ticket\"].value_counts())\n",
    "\n",
    "# encoding categorical columns\n",
    "encode_columns = [\"Sex\", \"Embarked\", \"Cabin\", \"Ticket\"]\n",
    "for column in encode_columns:\n",
    "    #display(titanic_train[column].value_counts())\n",
    "    titanic_train[column] = titanic_train[column].astype(\"category\").cat.codes\n",
    "    #display(titanic_train[column].value_counts())\n",
    "    \n",
    "display(titanic_train.head())"
   ]
  },
  {
   "cell_type": "code",
   "execution_count": 3,
   "metadata": {},
   "outputs": [
    {
     "data": {
      "text/plain": [
       "0    549\n",
       "1    340\n",
       "Name: Survived, dtype: int64"
      ]
     },
     "metadata": {},
     "output_type": "display_data"
    },
    {
     "name": "stdout",
     "output_type": "stream",
     "text": [
      "Survived Percentage: 38.24521934758155 \n",
      "Not Survived: 61.754780652418454\n",
      "Survive Ratio: 38 : 62\n"
     ]
    }
   ],
   "source": [
    "# data exploration \n",
    "display(titanic_train[\"Survived\"].value_counts())\n",
    "\n",
    "count_survived = len(titanic_train[titanic_train[\"Survived\"] == 1])\n",
    "count_no_survived = len(titanic_train[titanic_train[\"Survived\"] == 0])\n",
    "perc_survived = count_survived/(count_survived + count_no_survived) * 100\n",
    "perc_no_survived = count_no_survived/(count_survived + count_no_survived) * 100\n",
    "\n",
    "# we do have a reasonable ratio to train\n",
    "print(\"Survived Percentage:\" , perc_survived, \"\\nNot Survived:\" , perc_no_survived)\n",
    "print(\"Survive Ratio:\", round(perc_survived), \":\" , round(perc_no_survived))"
   ]
  },
  {
   "cell_type": "code",
   "execution_count": 4,
   "metadata": {},
   "outputs": [
    {
     "name": "stdout",
     "output_type": "stream",
     "text": [
      "Survive Ratio (Train): 39.0 : 61.0\n",
      "Survive Ratio (Test): 37.0 : 63.0\n"
     ]
    }
   ],
   "source": [
    "# cabin was left out as too many missing values \n",
    "feature_columns = [\"Pclass\", \"Sex\", \"SibSp\", \"Age\" ,\"Ticket\", \"Fare\", \"Embarked\"]\n",
    "X = titanic_train[feature_columns]\n",
    "y = titanic_train[\"Survived\"]\n",
    "\n",
    "# splitting training and test data \n",
    "X_train, X_test, y_train, y_test = train_test_split(X, y, test_size = 0.4)\n",
    " \n",
    "# ratio of survive/no survive for training\n",
    "perc_survived_train = round(sum(1 for x in y_train if x == 1) / y_train.count() * 100)\n",
    "perc_no_survived_train = round(sum(1 for x in y_train if x == 0) / y_train.count() * 100)\n",
    "print(\"Survive Ratio (Train):\", perc_survived_train, \":\" , perc_no_survived_train)\n",
    "\n",
    "# ratio of survive/no survive for test\n",
    "perc_survived_test = round(sum(1 for x in y_test if x == 1) / y_test.count() * 100)\n",
    "perc_no_survived_test = round(sum(1 for x in y_test if x == 0) / y_test.count() * 100)\n",
    "print(\"Survive Ratio (Test):\", perc_survived_test, \":\" , perc_no_survived_test)"
   ]
  },
  {
   "cell_type": "code",
   "execution_count": 8,
   "metadata": {},
   "outputs": [
    {
     "name": "stdout",
     "output_type": "stream",
     "text": [
      "\n",
      "Accuracy Logistic Regression (scikit): 0.797752808988764\n",
      "\n",
      "              precision    recall  f1-score   support\n",
      "\n",
      "           0       0.83      0.86      0.84       226\n",
      "           1       0.74      0.68      0.71       130\n",
      "\n",
      "   micro avg       0.80      0.80      0.80       356\n",
      "   macro avg       0.78      0.77      0.78       356\n",
      "weighted avg       0.80      0.80      0.80       356\n",
      "\n"
     ]
    }
   ],
   "source": [
    "# logistic regression using scikit \n",
    "log_reg = LogisticRegression(max_iter = 1000, solver = \"lbfgs\")\n",
    "log_reg.fit(X_train, y_train)\n",
    "\n",
    "# predict the test data\n",
    "y_pred = log_reg.predict(X_test)\n",
    "print(\"\\nAccuracy Logistic Regression (scikit):\", log_reg.score(X_test, y_test))\n",
    "print(\"\\n\" + classification_report(y_test, y_pred))"
   ]
  }
 ],
 "metadata": {
  "kernelspec": {
   "display_name": "Python [conda env:ics5110]",
   "language": "python",
   "name": "conda-env-ics5110-py"
  },
  "language_info": {
   "codemirror_mode": {
    "name": "ipython",
    "version": 3
   },
   "file_extension": ".py",
   "mimetype": "text/x-python",
   "name": "python",
   "nbconvert_exporter": "python",
   "pygments_lexer": "ipython3",
   "version": "3.7.0"
  }
 },
 "nbformat": 4,
 "nbformat_minor": 2
}
