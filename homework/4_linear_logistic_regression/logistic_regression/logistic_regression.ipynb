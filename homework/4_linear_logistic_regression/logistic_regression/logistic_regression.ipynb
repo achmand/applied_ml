{
 "cells": [
  {
   "cell_type": "markdown",
   "metadata": {},
   "source": [
    "### Applied Machine Learning\n",
    "# Logistic Regression\n",
    "\n",
    "<hr>\n",
    "\n",
    "## Table of Contents\n",
    "1. [Hypothesis](#hypothesis)\n",
    "2. [Sigmoid/Logistic Function](#log_func)\n",
    "3. [Cost Function](#cost_func)\n",
    "4. [Data Exploration](#data)\n",
    "5. [Logistic Regression (scikit)](#log_sci)\n",
    "6. [Logistic Regression from scratch](#log)\n",
    "7. [Evaluation of different models](#eval)"
   ]
  },
  {
   "cell_type": "code",
   "execution_count": 1,
   "metadata": {},
   "outputs": [],
   "source": [
    "# importing libraries \n",
    "from IPython.display import display\n",
    "import pandas as pd\n",
    "import numpy as np\n",
    "from sklearn.linear_model import LogisticRegression\n",
    "from sklearn.model_selection import train_test_split\n",
    "from sklearn.metrics import classification_report\n",
    "from sklearn.metrics import roc_curve \n",
    "from sklearn.metrics import roc_auc_score \n",
    "import matplotlib.pyplot as plt\n",
    "\n",
    "%matplotlib inline"
   ]
  },
  {
   "cell_type": "markdown",
   "metadata": {},
   "source": [
    "<a id=\"hypothesis\"></a>\n",
    "## Hypothesis\n",
    "\n",
    "Classification (dichotomous) algorithm:\n",
    "\n",
    "<font size=5>$$ 0 \\leq {h_\\theta(x)} \\leq 1 $$</font>\n",
    "\n",
    "Representation: \n",
    "\n",
    "<font size=5>$$ {h_\\theta(x)} = g({\\theta^Tx})  $$</font>\n",
    "\n",
    "<font size=5>$$ {g(z)} = \\frac{1}{1+e^{-z}} $$</font>\n",
    "\n",
    "<font size=3>$$Sigmoid/Logistic \\ function $$</font>\n",
    "\n",
    "Can be rewritten as:\n",
    "\n",
    "<font size=5>$$ {h_\\theta(x)} = \\frac{1}{1+e^{-\\theta^Tx}}  $$</font>\n",
    "\n",
    "Conditional Probability:\n",
    "\n",
    "<font size=5>$$ {P(\\hat{y} = 0 | x; \\theta)}  +  {P(\\hat{y} = 1 | x; \\theta)} = 1$$</font>\n",
    "\n",
    "<font size=5>$$ {P(\\hat{y} = 0 | x; \\theta)}  = 1 - {P(\\hat{y} = 1 | x; \\theta)} $$</font>\n",
    "\n",
    "Predict/Decision Boundary: \n",
    "\n",
    "<font size=5>$$ \\hat{y} = \\begin{cases} 0 & \\sigma(\\theta^Tx) \\geq 0.5 ; \\theta^Tx \\geq 0 \\\\ \n",
    "1 & \\sigma(\\theta^Tx) < 0.5 ; \\theta^Tx < 0 \\end{cases} $$</font>"
   ]
  },
  {
   "cell_type": "markdown",
   "metadata": {},
   "source": [
    "<a id=\"log_func\"></a>\n",
    "## Sigmoid/Logistic Function "
   ]
  },
  {
   "cell_type": "code",
   "execution_count": 2,
   "metadata": {},
   "outputs": [
    {
     "data": {
      "image/png": "[encoded data removed]",
      "text/plain": [
       "<Figure size 936x576 with 1 Axes>"
      ]
     },
     "metadata": {
      "needs_background": "light"
     },
     "output_type": "display_data"
    }
   ],
   "source": [
    "# plotting sigmoid function \n",
    "def sigmoid(z):\n",
    "    return 1 / (1 + np.exp(-z))\n",
    "\n",
    "x = np.linspace(-10,10,10)\n",
    "y = np.linspace(-10,10,100)\n",
    "plt.figure(figsize=(13,8))\n",
    "plt.axvline(x=0, color =\"black\", linestyle=\"--\",alpha=.5)\n",
    "plt.axhline(y=0.5, color =\"black\", linestyle=\"--\",alpha=.5)\n",
    "\n",
    "plt.plot(y, sigmoid(y), \"red\")\n",
    "plt.title(\"Logistic/Sigmoid Function\", fontsize=20)\n",
    "plt.text(4.5, 0.8, r\"$g(z)=\\frac{1}{1+e^{-\\theta^Tx}}$\", fontsize=20)\n",
    "plt.show()"
   ]
  },
  {
   "cell_type": "markdown",
   "metadata": {},
   "source": [
    "<a id=\"cost_func\"></a>\n",
    "## Cost Function\n",
    "\n",
    "As you can see from the previous section ${h_\\theta}$ is not a linear function so using MSE as a cost function would give us a non-convex function. Since we cannot differentiate the logistic function and have a non-convex function we would have many local minimas and we would have problems when using gradient descent (no guarantee for convergence). \n",
    "\n",
    "So we will be using another cost function which gives as a convex function to work with. \n",
    "\n",
    "#### TODO-> Write formulas and show graphs for better intuition + do Dervivatives \n",
    "\n",
    "Cost function: \n",
    "\n",
    "<font size=5>$$ {Cost(h_\\theta(x), y)} = {-y \\log(h_\\theta(x)) + ((1 - y) \\log(1 - h_\\theta(x)))} $$</font>\n",
    "\n",
    "<font size=5>$$ {J(\\theta)} = - \\frac{1}{m} \\sum\\limits_{i=1}^{m} {y_i \\log h_\\theta(x_i) + (1 - y_i) \\log(1 - h_\\theta(x_i))} $$</font>"
   ]
  },
  {
   "cell_type": "markdown",
   "metadata": {},
   "source": [
    "<a id=\"data\"></a>\n",
    "## Data Exploration"
   ]
  },
  {
   "cell_type": "code",
   "execution_count": 9,
   "metadata": {},
   "outputs": [
    {
     "name": "stdout",
     "output_type": "stream",
     "text": [
      "Index(['PassengerId', 'Survived', 'Pclass', 'Name', 'Sex', 'Age', 'SibSp',\n",
      "       'Parch', 'Ticket', 'Fare', 'Cabin', 'Embarked'],\n",
      "      dtype='object')\n"
     ]
    },
    {
     "data": {
      "text/plain": [
       "PassengerId      0\n",
       "Survived         0\n",
       "Pclass           0\n",
       "Name             0\n",
       "Sex              0\n",
       "Age            177\n",
       "SibSp            0\n",
       "Parch            0\n",
       "Ticket           0\n",
       "Fare             0\n",
       "Cabin          687\n",
       "Embarked         2\n",
       "dtype: int64"
      ]
     },
     "metadata": {},
     "output_type": "display_data"
    },
    {
     "name": "stdout",
     "output_type": "stream",
     "text": [
      "Total: 891\n"
     ]
    },
    {
     "data": {
      "text/plain": [
       "PassengerId      0\n",
       "Survived         0\n",
       "Pclass           0\n",
       "Name             0\n",
       "Sex              0\n",
       "Age              0\n",
       "SibSp            0\n",
       "Parch            0\n",
       "Ticket           0\n",
       "Fare             0\n",
       "Cabin          687\n",
       "Embarked         0\n",
       "dtype: int64"
      ]
     },
     "metadata": {},
     "output_type": "display_data"
    },
    {
     "name": "stdout",
     "output_type": "stream",
     "text": [
      "Total: 889\n"
     ]
    },
    {
     "data": {
      "text/html": [
       "<div>\n",
       "<style scoped>\n",
       "    .dataframe tbody tr th:only-of-type {\n",
       "        vertical-align: middle;\n",
       "    }\n",
       "\n",
       "    .dataframe tbody tr th {\n",
       "        vertical-align: top;\n",
       "    }\n",
       "\n",
       "    .dataframe thead th {\n",
       "        text-align: right;\n",
       "    }\n",
       "</style>\n",
       "<table border=\"1\" class=\"dataframe\">\n",
       "  <thead>\n",
       "    <tr style=\"text-align: right;\">\n",
       "      <th></th>\n",
       "      <th>PassengerId</th>\n",
       "      <th>Survived</th>\n",
       "      <th>Pclass</th>\n",
       "      <th>Name</th>\n",
       "      <th>Sex</th>\n",
       "      <th>Age</th>\n",
       "      <th>SibSp</th>\n",
       "      <th>Parch</th>\n",
       "      <th>Ticket</th>\n",
       "      <th>Fare</th>\n",
       "      <th>Cabin</th>\n",
       "      <th>Embarked</th>\n",
       "    </tr>\n",
       "  </thead>\n",
       "  <tbody>\n",
       "    <tr>\n",
       "      <th>0</th>\n",
       "      <td>1</td>\n",
       "      <td>0</td>\n",
       "      <td>3</td>\n",
       "      <td>Braund, Mr. Owen Harris</td>\n",
       "      <td>1</td>\n",
       "      <td>22.0</td>\n",
       "      <td>1</td>\n",
       "      <td>0</td>\n",
       "      <td>522</td>\n",
       "      <td>7.2500</td>\n",
       "      <td>-1</td>\n",
       "      <td>2</td>\n",
       "    </tr>\n",
       "    <tr>\n",
       "      <th>1</th>\n",
       "      <td>2</td>\n",
       "      <td>1</td>\n",
       "      <td>1</td>\n",
       "      <td>Cumings, Mrs. John Bradley (Florence Briggs Th...</td>\n",
       "      <td>0</td>\n",
       "      <td>38.0</td>\n",
       "      <td>1</td>\n",
       "      <td>0</td>\n",
       "      <td>595</td>\n",
       "      <td>71.2833</td>\n",
       "      <td>80</td>\n",
       "      <td>0</td>\n",
       "    </tr>\n",
       "    <tr>\n",
       "      <th>2</th>\n",
       "      <td>3</td>\n",
       "      <td>1</td>\n",
       "      <td>3</td>\n",
       "      <td>Heikkinen, Miss. Laina</td>\n",
       "      <td>0</td>\n",
       "      <td>26.0</td>\n",
       "      <td>0</td>\n",
       "      <td>0</td>\n",
       "      <td>668</td>\n",
       "      <td>7.9250</td>\n",
       "      <td>-1</td>\n",
       "      <td>2</td>\n",
       "    </tr>\n",
       "    <tr>\n",
       "      <th>3</th>\n",
       "      <td>4</td>\n",
       "      <td>1</td>\n",
       "      <td>1</td>\n",
       "      <td>Futrelle, Mrs. Jacques Heath (Lily May Peel)</td>\n",
       "      <td>0</td>\n",
       "      <td>35.0</td>\n",
       "      <td>1</td>\n",
       "      <td>0</td>\n",
       "      <td>48</td>\n",
       "      <td>53.1000</td>\n",
       "      <td>54</td>\n",
       "      <td>2</td>\n",
       "    </tr>\n",
       "    <tr>\n",
       "      <th>4</th>\n",
       "      <td>5</td>\n",
       "      <td>0</td>\n",
       "      <td>3</td>\n",
       "      <td>Allen, Mr. William Henry</td>\n",
       "      <td>1</td>\n",
       "      <td>35.0</td>\n",
       "      <td>0</td>\n",
       "      <td>0</td>\n",
       "      <td>471</td>\n",
       "      <td>8.0500</td>\n",
       "      <td>-1</td>\n",
       "      <td>2</td>\n",
       "    </tr>\n",
       "  </tbody>\n",
       "</table>\n",
       "</div>"
      ],
      "text/plain": [
       "   PassengerId  Survived  Pclass  \\\n",
       "0            1         0       3   \n",
       "1            2         1       1   \n",
       "2            3         1       3   \n",
       "3            4         1       1   \n",
       "4            5         0       3   \n",
       "\n",
       "                                                Name  Sex   Age  SibSp  Parch  \\\n",
       "0                            Braund, Mr. Owen Harris    1  22.0      1      0   \n",
       "1  Cumings, Mrs. John Bradley (Florence Briggs Th...    0  38.0      1      0   \n",
       "2                             Heikkinen, Miss. Laina    0  26.0      0      0   \n",
       "3       Futrelle, Mrs. Jacques Heath (Lily May Peel)    0  35.0      1      0   \n",
       "4                           Allen, Mr. William Henry    1  35.0      0      0   \n",
       "\n",
       "   Ticket     Fare  Cabin  Embarked  \n",
       "0     522   7.2500     -1         2  \n",
       "1     595  71.2833     80         0  \n",
       "2     668   7.9250     -1         2  \n",
       "3      48  53.1000     54         2  \n",
       "4     471   8.0500     -1         2  "
      ]
     },
     "metadata": {},
     "output_type": "display_data"
    }
   ],
   "source": [
    "# load training dataset \n",
    "titanic_train = pd.read_csv(\"titanic_train.csv\")\n",
    "\n",
    "#titanic_train = titanic_train.dropna()\n",
    "print(titanic_train.columns)\n",
    "display(titanic_train.isnull().sum()) # display missing values \n",
    "print(\"Total:\", titanic_train.shape[0])\n",
    "\n",
    "# dropping rows with missing Embarked\n",
    "titanic_train = titanic_train[pd.notnull(titanic_train[\"Embarked\"])]\n",
    "\n",
    "# setting missing age to mean \n",
    "titanic_age = titanic_train[pd.notnull(titanic_train[\"Age\"])][\"Age\"]\n",
    "titanic_age_mean = round(sum(titanic_age) / len(titanic_age))\n",
    "titanic_train[\"Age\"] = titanic_train[\"Age\"].replace(np.nan, titanic_age_mean)\n",
    "\n",
    "display(titanic_train.isnull().sum())\n",
    "print(\"Total:\", titanic_train.shape[0])\n",
    "\n",
    "# cleaning cabin removing numbers and keeping letters only \n",
    "#titanic_train[\"Cabin\"] = titanic_train[\"Cabin\"].str.replace(\"[^ABCDEFGHIJKLMNOPQRSTUVWXYZ]\", \"\")\n",
    "#display(titanic_train[\"Cabin\"].value_counts())\n",
    "#titanic_train[\"Ticket\"] = titanic_train[\"Ticket\"].str.replace(\"[^ABCDEFGHIJKLMNOPQRSTUVWXYZ]\", \"\")\n",
    "#display(titanic_train[\"Ticket\"].value_counts())\n",
    "\n",
    "# encoding categorical columns\n",
    "encode_columns = [\"Sex\", \"Embarked\", \"Cabin\", \"Ticket\"]\n",
    "for column in encode_columns:\n",
    "    #display(titanic_train[column].value_counts())\n",
    "    titanic_train[column] = titanic_train[column].astype(\"category\").cat.codes\n",
    "    #display(titanic_train[column].value_counts())\n",
    "    \n",
    "display(titanic_train.head())"
   ]
  },
  {
   "cell_type": "code",
   "execution_count": 4,
   "metadata": {},
   "outputs": [
    {
     "data": {
      "text/plain": [
       "0    549\n",
       "1    340\n",
       "Name: Survived, dtype: int64"
      ]
     },
     "metadata": {},
     "output_type": "display_data"
    },
    {
     "name": "stdout",
     "output_type": "stream",
     "text": [
      "Survived Percentage: 38.24521934758155 \n",
      "Not Survived: 61.754780652418454\n",
      "Survive Ratio: 38 : 62\n"
     ]
    }
   ],
   "source": [
    "# data exploration \n",
    "display(titanic_train[\"Survived\"].value_counts())\n",
    "\n",
    "count_survived = len(titanic_train[titanic_train[\"Survived\"] == 1])\n",
    "count_no_survived = len(titanic_train[titanic_train[\"Survived\"] == 0])\n",
    "perc_survived = count_survived/(count_survived + count_no_survived) * 100\n",
    "perc_no_survived = count_no_survived/(count_survived + count_no_survived) * 100\n",
    "\n",
    "# we do have a reasonable ratio to train\n",
    "print(\"Survived Percentage:\" , perc_survived, \"\\nNot Survived:\" , perc_no_survived)\n",
    "print(\"Survive Ratio:\", round(perc_survived), \":\" , round(perc_no_survived))"
   ]
  },
  {
   "cell_type": "code",
   "execution_count": 5,
   "metadata": {},
   "outputs": [
    {
     "name": "stdout",
     "output_type": "stream",
     "text": [
      "Survive Ratio (Train): 37.0 : 63.0\n",
      "Survive Ratio (Test): 41.0 : 59.0\n"
     ]
    }
   ],
   "source": [
    "# cabin was left out as too many missing values \n",
    "feature_columns = [\"Pclass\", \"Sex\", \"SibSp\", \"Age\", \"Fare\", \"Embarked\"]\n",
    "X = titanic_train[feature_columns]\n",
    "y = titanic_train[\"Survived\"]\n",
    "\n",
    "# splitting training and test data \n",
    "X_train, X_test, y_train, y_test = train_test_split(X, y, test_size = 0.4)\n",
    "\n",
    "# ratio of survive/no survive for training\n",
    "perc_survived_train = round(sum(1 for x in y_train if x == 1) / y_train.count() * 100)\n",
    "perc_no_survived_train = round(sum(1 for x in y_train if x == 0) / y_train.count() * 100)\n",
    "print(\"Survive Ratio (Train):\", perc_survived_train, \":\" , perc_no_survived_train)\n",
    "\n",
    "# ratio of survive/no survive for test\n",
    "perc_survived_test = round(sum(1 for x in y_test if x == 1) / y_test.count() * 100)\n",
    "perc_no_survived_test = round(sum(1 for x in y_test if x == 0) / y_test.count() * 100)\n",
    "print(\"Survive Ratio (Test):\", perc_survived_test, \":\" , perc_no_survived_test)"
   ]
  },
  {
   "cell_type": "markdown",
   "metadata": {},
   "source": [
    "<a id=\"log_sci\"></a>\n",
    "## Logistic Regression (scikit)"
   ]
  },
  {
   "cell_type": "code",
   "execution_count": 6,
   "metadata": {},
   "outputs": [],
   "source": [
    "# holds references to models for evaluation\n",
    "# model_list: [model_name, [accuracy, classification_report, confusion_matrix]]\n",
    "model_list = [(\"Logistic Regression (scikit)\", []),(\"Logistic Regression\", [])]\n",
    "\n",
    "# maximum iterations\n",
    "max_iterations = 10000\n",
    "\n",
    "# logistic regression using scikit \n",
    "log_reg = LogisticRegression(max_iter = max_iterations, solver = \"lbfgs\")\n",
    "log_reg.fit(X_train, y_train)\n",
    "\n",
    "# predict the test data\n",
    "y_pred = log_reg.predict(X_test)\n",
    "\n",
    "model_list[0][1].append(y_pred) # adding predicted results\n",
    "model_list[0][1].append(log_reg.score(X_test, y_test)) # adding accuracy \n",
    "model_list[0][1].append(classification_report(y_test, y_pred)) # adding classification report "
   ]
  },
  {
   "cell_type": "markdown",
   "metadata": {},
   "source": [
    "<a id=\"log\"></a>\n",
    "## Logistic Regression from scratch"
   ]
  },
  {
   "cell_type": "code",
   "execution_count": 7,
   "metadata": {},
   "outputs": [
    {
     "name": "stdout",
     "output_type": "stream",
     "text": [
      "Loss: 0.6931471805599453\n",
      "Loss: 0.5970467856404789\n",
      "Loss: 0.5835534737558349\n",
      "Loss: 0.5739867546010652\n",
      "Loss: 0.5660260758736105\n",
      "Loss: 0.5589726817478582\n",
      "Loss: 0.552580650165534\n",
      "Loss: 0.5467401240579072\n",
      "Loss: 0.541385865429587\n",
      "Loss: 0.5364694128979335\n"
     ]
    }
   ],
   "source": [
    "# build logistic regression from scratch \n",
    "\n",
    "# cost function \n",
    "def logistic_cost(y, h):\n",
    "    return -np.mean(y * np.log(h) + ((1.0 - y) * np.log(1.0 - h)))\n",
    "\n",
    "def train_logistic_reg(X, y, alpha, max_epoch, threshold, show_loss = False):\n",
    "    \n",
    "    # initialize values\n",
    "    m = len(y) # total examples\n",
    "    bias = np.ones((X.shape[0], 1)) # bias/intercept as 1's (x0 = 1)\n",
    "    X = np.concatenate((bias, X) , axis = 1) # concatenate bias with features\n",
    "    theta = np.zeros(X.shape[1]) # thetas/weights as 1's\n",
    "\n",
    "    # gradient descent   \n",
    "    for curr_epoch in range(max_epoch):        \n",
    "        z = np.dot(X, theta) # theta Transpose * X\n",
    "        h = sigmoid(z) # hypothesis\n",
    "        gradient = np.dot(X.T, (h - y)) / m # calc gradient \n",
    "        theta -= alpha * gradient      \n",
    "        \n",
    "        if(show_loss and curr_epoch % 1000 == 0):\n",
    "            print(\"Loss:\", logistic_cost(y, h))\n",
    "    \n",
    "    return theta\n",
    "                    \n",
    "# predict using logistic regression \n",
    "def predict_logistic_reg(X,theta,threshold = 0.5):\n",
    "    bias = np.ones((X.shape[0], 1)) # bias/intercept as 1's (x0 = 1)\n",
    "    X = np.concatenate((bias, X) , axis = 1) # concatenate bias with features\n",
    "    return sigmoid(np.dot(X,theta)) >= threshold \n",
    "\n",
    "## hyperparameters\n",
    "alpha = 0.001 # learning rate\n",
    "max_epoch = 10000 # maximum iterations\n",
    "threshold = 0.01 # change threshold to stop iteration (converged)\n",
    "\n",
    "theta = train_logistic_reg(X_train, y_train, alpha, max_iterations, threshold, True)\n",
    "y_pred = predict_logistic_reg(X_test, theta)\n",
    "accuracy = (y_pred == y_test).mean()\n",
    "\n",
    "model_list[1][1].append(y_pred) # adding predicted results\n",
    "model_list[1][1].append(accuracy) # adding accuracy \n",
    "model_list[1][1].append(classification_report(y_test, y_pred)) # adding classification report "
   ]
  },
  {
   "cell_type": "markdown",
   "metadata": {},
   "source": [
    "<a id=\"eval\"></a>\n",
    "## Evaluation of different models"
   ]
  },
  {
   "cell_type": "code",
   "execution_count": 8,
   "metadata": {
    "scrolled": false
   },
   "outputs": [
    {
     "name": "stdout",
     "output_type": "stream",
     "text": [
      "Model: Logistic Regression (scikit)\n",
      "Accuracy: 0.792\n",
      "Classification Report:               precision    recall  f1-score   support\n",
      "\n",
      "           0       0.80      0.87      0.83       211\n",
      "           1       0.78      0.68      0.73       145\n",
      "\n",
      "   micro avg       0.79      0.79      0.79       356\n",
      "   macro avg       0.79      0.78      0.78       356\n",
      "weighted avg       0.79      0.79      0.79       356\n",
      "\n",
      "Confusion Matrix:\n"
     ]
    },
    {
     "data": {
      "text/html": [
       "<div>\n",
       "<style scoped>\n",
       "    .dataframe tbody tr th:only-of-type {\n",
       "        vertical-align: middle;\n",
       "    }\n",
       "\n",
       "    .dataframe tbody tr th {\n",
       "        vertical-align: top;\n",
       "    }\n",
       "\n",
       "    .dataframe thead th {\n",
       "        text-align: right;\n",
       "    }\n",
       "</style>\n",
       "<table border=\"1\" class=\"dataframe\">\n",
       "  <thead>\n",
       "    <tr style=\"text-align: right;\">\n",
       "      <th>Predicted</th>\n",
       "      <th>0</th>\n",
       "      <th>1</th>\n",
       "    </tr>\n",
       "    <tr>\n",
       "      <th>Actual</th>\n",
       "      <th></th>\n",
       "      <th></th>\n",
       "    </tr>\n",
       "  </thead>\n",
       "  <tbody>\n",
       "    <tr>\n",
       "      <th>0</th>\n",
       "      <td>55</td>\n",
       "      <td>29</td>\n",
       "    </tr>\n",
       "    <tr>\n",
       "      <th>1</th>\n",
       "      <td>40</td>\n",
       "      <td>23</td>\n",
       "    </tr>\n",
       "  </tbody>\n",
       "</table>\n",
       "</div>"
      ],
      "text/plain": [
       "Predicted   0   1\n",
       "Actual           \n",
       "0          55  29\n",
       "1          40  23"
      ]
     },
     "metadata": {},
     "output_type": "display_data"
    },
    {
     "name": "stdout",
     "output_type": "stream",
     "text": [
      "ROC Curve\n"
     ]
    },
    {
     "data": {
      "image/png": "[encoded data removed]",
      "text/plain": [
       "<Figure size 432x288 with 1 Axes>"
      ]
     },
     "metadata": {
      "needs_background": "light"
     },
     "output_type": "display_data"
    },
    {
     "name": "stdout",
     "output_type": "stream",
     "text": [
      "AUC: 0.775\n",
      "\n",
      "\n",
      "Model: Logistic Regression\n",
      "Accuracy: 0.702\n",
      "Classification Report:               precision    recall  f1-score   support\n",
      "\n",
      "           0       0.67      0.97      0.79       211\n",
      "           1       0.87      0.32      0.46       145\n",
      "\n",
      "   micro avg       0.70      0.70      0.70       356\n",
      "   macro avg       0.77      0.64      0.63       356\n",
      "weighted avg       0.75      0.70      0.66       356\n",
      "\n",
      "Confusion Matrix:\n"
     ]
    },
    {
     "data": {
      "text/html": [
       "<div>\n",
       "<style scoped>\n",
       "    .dataframe tbody tr th:only-of-type {\n",
       "        vertical-align: middle;\n",
       "    }\n",
       "\n",
       "    .dataframe tbody tr th {\n",
       "        vertical-align: top;\n",
       "    }\n",
       "\n",
       "    .dataframe thead th {\n",
       "        text-align: right;\n",
       "    }\n",
       "</style>\n",
       "<table border=\"1\" class=\"dataframe\">\n",
       "  <thead>\n",
       "    <tr style=\"text-align: right;\">\n",
       "      <th>Predicted</th>\n",
       "      <th>False</th>\n",
       "      <th>True</th>\n",
       "    </tr>\n",
       "    <tr>\n",
       "      <th>Actual</th>\n",
       "      <th></th>\n",
       "      <th></th>\n",
       "    </tr>\n",
       "  </thead>\n",
       "  <tbody>\n",
       "    <tr>\n",
       "      <th>0</th>\n",
       "      <td>74</td>\n",
       "      <td>10</td>\n",
       "    </tr>\n",
       "    <tr>\n",
       "      <th>1</th>\n",
       "      <td>54</td>\n",
       "      <td>9</td>\n",
       "    </tr>\n",
       "  </tbody>\n",
       "</table>\n",
       "</div>"
      ],
      "text/plain": [
       "Predicted  False  True \n",
       "Actual                 \n",
       "0             74     10\n",
       "1             54      9"
      ]
     },
     "metadata": {},
     "output_type": "display_data"
    },
    {
     "name": "stdout",
     "output_type": "stream",
     "text": [
      "ROC Curve\n"
     ]
    },
    {
     "data": {
      "image/png": "[encoded data removed]",
      "text/plain": [
       "<Figure size 432x288 with 1 Axes>"
      ]
     },
     "metadata": {
      "needs_background": "light"
     },
     "output_type": "display_data"
    },
    {
     "name": "stdout",
     "output_type": "stream",
     "text": [
      "AUC: 0.642\n",
      "\n",
      "\n"
     ]
    }
   ],
   "source": [
    "y_actual = pd.Series(y_test, name=\"Actual\")\n",
    "\n",
    "# comparing values \n",
    "for e in model_list: # loop different evaluations\n",
    "    # model name\n",
    "    print(\"Model:\", e[0])\n",
    "    \n",
    "    # model accuracy\n",
    "    print(\"Accuracy: %0.3f\" % e[1][1])\n",
    "    \n",
    "    # classification report\n",
    "    print(\"Classification Report:\", e[1][2])\n",
    "\n",
    "    # confusion matrix \n",
    "    y_pred = pd.Series(e[1][0], name = \"Predicted\")\n",
    "    df_confusion = pd.crosstab(y_actual, y_pred)\n",
    "    print(\"Confusion Matrix:\")\n",
    "    display(df_confusion)\n",
    "    \n",
    "    # ROC\n",
    "    print(\"ROC Curve\")\n",
    "    fpr, tpr, thresholds = roc_curve(y_test, e[1][0])\n",
    "    plt.plot([0,1],[0,1], linestyle=\"--\")\n",
    "    plt.plot(fpr,tpr,marker=\".\")\n",
    "    plt.show()\n",
    "    \n",
    "    # AUC\n",
    "    auc = roc_auc_score(y_test, e[1][0])\n",
    "    print(\"AUC: %0.3f\" % auc)\n",
    "\n",
    "    print(\"\\n\")\n"
   ]
  }
 ],
 "metadata": {
  "kernelspec": {
   "display_name": "ics5110",
   "language": "python",
   "name": "ics5110"
  },
  "language_info": {
   "codemirror_mode": {
    "name": "ipython",
    "version": 3
   },
   "file_extension": ".py",
   "mimetype": "text/x-python",
   "name": "python",
   "nbconvert_exporter": "python",
   "pygments_lexer": "ipython3",
   "version": "3.7.0"
  }
 },
 "nbformat": 4,
 "nbformat_minor": 2
}
