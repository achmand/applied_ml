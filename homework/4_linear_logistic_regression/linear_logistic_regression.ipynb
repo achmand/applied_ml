{
 "cells": [
  {
   "cell_type": "markdown",
   "metadata": {},
   "source": [
    "# Linear & Logistic Regression Homework"
   ]
  },
  {
   "cell_type": "code",
   "execution_count": 1,
   "metadata": {},
   "outputs": [],
   "source": [
    "## importing libraries used in notebook \n",
    "import statsmodels.api as sm\n",
    "import numpy as np\n",
    "import pandas as pd\n",
    "import matplotlib.pyplot as plt\n",
    "from scipy.stats.stats import pearsonr"
   ]
  },
  {
   "cell_type": "markdown",
   "metadata": {},
   "source": [
    "## Pearson Correlation Coefficient\n",
    "\n",
    "<font size=5>$${r} = \\frac{\\sum_{}^{} ({x}-{\\overline{x}})({y} - {\\overline{y}})} {\\sqrt{\\sum({x}-{\\overline{y}})^ 2} \\sqrt{\\sum({y}-{\\overline{y}})^ 2 }} $$</font>\n",
    "\n",
    "<br>\n",
    "<font size=3>$${x} = Independent \\ Variables $$\n",
    "$$\\overline{x} = \\ Mean \\ of \\ Independent \\ Variables $$\n",
    "$${x} = Dependent \\ Variables $$\n",
    "$$\\overline{y} = \\ Mean \\ of \\ Dependent \\ Variables $$\n",
    "</font>"
   ]
  },
  {
   "cell_type": "code",
   "execution_count": 2,
   "metadata": {},
   "outputs": [
    {
     "name": "stdout",
     "output_type": "stream",
     "text": [
      "Pearson Correlation Coefficient (python): 0.9820405131850373\n"
     ]
    }
   ],
   "source": [
    "## function that calc mean \n",
    "def mean(array):\n",
    "    return sum(array)/len(array)\n",
    "\n",
    "## function that calc pearson correlation coefficient\n",
    "## takes an array of tuples of size 2 (x,y)\n",
    "## returns the r value \n",
    "def pearson_corr(array):\n",
    "    ## unpacking  \n",
    "    x = [num[0] for num in array]\n",
    "    y = [num[1] for num in array]\n",
    "\n",
    "    ## calc means \n",
    "    x_mean = mean(x)\n",
    "    y_mean = mean(y)\n",
    "\n",
    "    # calc r\n",
    "    numerator = sum([(n[0] - x_mean) * (n[1] - y_mean) for n in array]) \n",
    "    denominator_x = (sum([(x - x_mean) ** 2 for x in x]) ** 0.5)\n",
    "    denominator_y = (sum([(y - y_mean) ** 2 for y in y]) ** 0.5)\n",
    "    return numerator / (denominator_x * denominator_y)\n",
    "\n",
    "# dataset in the form of tuples (study hours, study-unit mark)\n",
    "ds = [(84,70),(76,64),(90,83),(63,45), (55,40), (60,38), (34,20)]\n",
    "r = pearson_corr(ds)\n",
    "print(\"Pearson Correlation Coefficient (python):\",r)"
   ]
  },
  {
   "cell_type": "code",
   "execution_count": 3,
   "metadata": {},
   "outputs": [
    {
     "name": "stdout",
     "output_type": "stream",
     "text": [
      "Pearson Correlation Coefficient (scipy): 0.9820405131850373\n"
     ]
    }
   ],
   "source": [
    "## pearsonr using scipy\n",
    "\n",
    "x = [num[0] for num in ds]\n",
    "y = [num[1] for num in ds]\n",
    "r = pearsonr(x,y)[0]\n",
    "\n",
    "print(\"Pearson Correlation Coefficient (scipy):\",r)"
   ]
  },
  {
   "cell_type": "markdown",
   "metadata": {},
   "source": [
    "In the dataset we used in the example we had the marks of a student and the hours spent studying.\n",
    "\n",
    "<b>Which is the response variable and which is the explanatory variable ? </b> \n",
    "\n",
    "- Study Hours (explanatory variable) and it is plotted on the x-axis\n",
    "- Study Unit Mark (response variable) and it is plotted on the y-axis\n"
   ]
  },
  {
   "cell_type": "markdown",
   "metadata": {},
   "source": [
    "## Building a Simple Linear Regression Model using Ordinary Least Squares\n",
    "\n",
    "## Ordinary Least Squares\n",
    "\n",
    "<font size=5>$${m} = \\dfrac{\\sum\\limits_{i=1}^{n} ({x_i - \\overline{X}}) ({y_i} - \\overline{Y})} {\\sum\\limits_{i=1}^{n} ({x_i - \\overline{X}})^2} $$</font>\n",
    "<br>\n",
    "\n",
    "<font size=5>$${b} = \\overline{Y} - {m}\\overline{X}$$</font>\n",
    "<br>\n",
    "\n",
    "<font size=3>$${x} = Independent \\ Variables $$\n",
    "$$\\overline{X} = \\ Mean \\ of \\ Independent \\ Variables $$\n",
    "$${x} = Dependent \\ Variables $$\n",
    "$$\\overline{Y} = \\ Mean \\ of \\ Dependent \\ Variables $$\n",
    "</font>"
   ]
  },
  {
   "cell_type": "code",
   "execution_count": 4,
   "metadata": {},
   "outputs": [
    {
     "name": "stdout",
     "output_type": "stream",
     "text": [
      "OLS (pure python) m: 1.1182648401826485 b: -22.376908023483367\n",
      "OLS (pure python) m: 1.1182648401826485 b: -22.376908023483367\n",
      "OLS (statsmodels) m: 1.1182648401826485 b: -22.37690802348338\n"
     ]
    },
    {
     "data": {
      "image/png": "[encoded data removed]",
      "text/plain": [
       "<Figure size 936x576 with 1 Axes>"
      ]
     },
     "metadata": {
      "needs_background": "light"
     },
     "output_type": "display_data"
    }
   ],
   "source": [
    "## building a simple linear regression model using OLS (studyhours/grades dataset)\n",
    "\n",
    "## function that calc gradient and y-intercept using OLS \n",
    "## takes 2 arrays as arguments (must be of the same length)\n",
    "## returns tuple (m,b)\n",
    "def ols(x, y): ## OLS using just python\n",
    "    \n",
    "    ## calc means \n",
    "    x_m = mean(x)\n",
    "    y_m = mean(y)\n",
    "    \n",
    "    ## make x and y arrays into a list of tuples\n",
    "    xy = list(zip(x,y))\n",
    "    \n",
    "    ## calc m/gradient\n",
    "    m_numerator = sum([(n[0] - x_m) * (n[1] - y_m) for n in xy])\n",
    "    m_denominator = sum([(n[0]- x_m) ** 2 for n in xy])\n",
    "    m = m_numerator / m_denominator\n",
    "    \n",
    "    ## calc b/y-intercept \n",
    "    b = y_m - m * x_m\n",
    "    return (m,b) # returns tuple (gradient, y-intercept)\n",
    "\n",
    "\n",
    "## function that calc gradient and y-intercept using OLS \n",
    "## takes 2 numpy arrays as arguments (must be of the same length)\n",
    "## returns tuple (m,b)\n",
    "def ols_numpy(x, y): ## OLS using numpy\n",
    "    \n",
    "    # calc means using numpy\n",
    "    x_m = x.mean()\n",
    "    y_m = y.mean()\n",
    "    \n",
    "    ## calc m/gradient\n",
    "    m_numerator = np.sum((x - x_m) * (y - y_m)) ## using broadcasting \n",
    "    m_denominator = np.sum((x - x_m) ** 2)\n",
    "    m = m_numerator / m_denominator\n",
    "    \n",
    "    ## calc b/y-intercept \n",
    "    b = y_m - m * x_m\n",
    "    return(m,b) # returns tuple (gradient, y-intercept)\n",
    "\n",
    "## calc m & y using OLS with pure python\n",
    "olspy_params = ols(x, y)\n",
    "print(\"OLS (pure python) m:\",olspy_params[0],\"b:\",olspy_params[1])\n",
    "\n",
    "## calc m & y using OLS with numpy \n",
    "x_np = np.array(x)\n",
    "y_np = np.array(y)\n",
    "olsnp_params = ols_numpy(x_np, y_np)\n",
    "print(\"OLS (pure python) m:\",olsnp_params[0],\"b:\",olsnp_params[1])\n",
    "\n",
    "## calc m & y using OLS with statsmodels\n",
    "X = sm.add_constant(x)\n",
    "sm_model = sm.OLS(y, X).fit()\n",
    "#print(\"\\n\" , sm_model.summary())\n",
    "print(\"OLS (statsmodels) m:\", sm_model.params[1],\"b:\",sm_model.params[0])\n",
    "\n",
    "## plot simple linear regression model \n",
    "%matplotlib inline\n",
    "plt.figure(figsize=(13,8))\n",
    "plt.scatter(x, y) # plot the scatter plot\n",
    "plt.title(\"Student Effort\")\n",
    "plt.xlabel(\"Study Hours\")\n",
    "plt.ylabel(\"Grade\")\n",
    "#model = x_np * olsnp_params[0] + olsnp_params[1] ## using numpy broadcasting\n",
    "#plt.plot(x_np, model)\n",
    "model = [num * olspy_params[0] + olspy_params[1] for num in x] ## using pure python\n",
    "#print(model)\n",
    "plt.plot(x, model) # plot the line\n",
    "plt.show()"
   ]
  },
  {
   "cell_type": "code",
   "execution_count": 5,
   "metadata": {},
   "outputs": [
    {
     "name": "stdout",
     "output_type": "stream",
     "text": [
      "Q1: According to the model if you study for 80 hours you will score: 67.08427919112852\n",
      "Q2: According to the model to get an A (90) you need to study for: 110.01038324680627 hours\n"
     ]
    }
   ],
   "source": [
    "## using the model answer the following questions \n",
    "## - What mark will you get if you study for 80 hrs ?\n",
    "## - How many hours of study do you need to get an A ?\n",
    "\n",
    "## y = mx + b\n",
    "q_1 = 80 * olspy_params[0] + olspy_params[1]\n",
    "print(\"Q1: According to the model if you study for 80 hours you will score:\", q_1)\n",
    "\n",
    "## assuming you will need a grade of 90 to get an A \n",
    "## x = y - b / m !(m not equal to 0)!\n",
    "q_2 = 90 - olspy_params[1] / olspy_params[0]\n",
    "print(\"Q2: According to the model to get an A (90) you need to study for:\", q_2 , \"hours\")"
   ]
  },
  {
   "cell_type": "code",
   "execution_count": 7,
   "metadata": {},
   "outputs": [
    {
     "name": "stdout",
     "output_type": "stream",
     "text": [
      "Pearson Correlation Coefficient (scipy): -0.5625445471263226\n",
      "OLS (pure python) m: -0.04997200374057575 b: 12862.955271681236\n"
     ]
    },
    {
     "data": {
      "image/png": "[encoded data removed]",
      "text/plain": [
       "<Figure size 936x576 with 1 Axes>"
      ]
     },
     "metadata": {
      "needs_background": "light"
     },
     "output_type": "display_data"
    }
   ],
   "source": [
    "## building a simple linear regression model using OLS (car dataset - kms vs price)\n",
    "car_ds = pd.read_csv(\"201819_car_insurance_data.csv\")\n",
    "x = [float(num[1].replace(\",\",\"\")) for num in car_ds.values]\n",
    "y = [float(num[2].replace(\",\",\"\").replace(\"€\", \"\")) for num in car_ds.values]\n",
    "\n",
    "## calc pearson correlation coefficient\n",
    "r = pearsonr(x,y)[0]\n",
    "print(\"Pearson Correlation Coefficient (scipy):\", r)\n",
    "\n",
    "## calc m & y using OLS with pure python\n",
    "olspy_params = ols(x, y)\n",
    "print(\"OLS (pure python) m:\",olspy_params[0],\"b:\",olspy_params[1])\n",
    "\n",
    "## plot simple linear regression model \n",
    "plt.figure(figsize=(13,8))\n",
    "plt.scatter(x, y) # plot the scatter plot\n",
    "plt.title(\"Kms vs Price\")\n",
    "plt.xlabel(\"Kms\")\n",
    "plt.ylabel(\"Price (€)\")\n",
    "model = [num * olspy_params[0] + olspy_params[1] for num in x] ## using pure python\n",
    "plt.plot(x, model) # plot the line\n",
    "plt.show()"
   ]
  },
  {
   "cell_type": "markdown",
   "metadata": {},
   "source": [
    "### Equations in Ordinary Least Squares (OLS)\n",
    "\n",
    "A straight line is represented as follows:\n",
    "\n",
    "<font size=4>$${y} = {mx} + {b}$$</font>\n",
    "\n",
    "<font size=2>$${m} = slope/gradient$$\n",
    "$${b} = y \\ intercept$$</font>\n",
    "\n",
    "\n",
    "In order to find a line of best fit we need to find the line with the least error (${E}$) from all the other possible lines. In OLS to calculate the global error (for all points) we use the following: \n",
    "\n",
    "<font size=4>$${E} = \\sum_{i=1}^{n} (\\hat{y} - {y}) ^ 2 $$</font>\n",
    "\n",
    "<font size=2>$${y} = point $$\n",
    "$${\\hat{y}} = estimated \\ point$$</font>\n",
    "\n",
    "<font size=4>$$= \\sum_{i=1}^{n} (\\hat{y} - {y}) ^ 2 $$</font>\n",
    "<font size=4>$$= \\sum_{i=1}^{n} ({mx} + {b} - {y}) \\ ({mx} + {b} - {y}) $$</font>\n",
    "<font size=4>$$= \\sum_{i=1}^{n} ({m}^2 {x}^2 + {bmx} - {ymx} + {bmx} + {b^2} - {by} - {ymx} -{by} + {y^2}) $$</font>\n",
    "<font size=4>$$= \\sum_{i=1}^{n} ({m^2} {x^2} + {2bmx} - {2ymx} + {b^2} - {2yb} + {y^2}) $$</font>\n",
    "<font size=4>$$= {m^2} \\sum{x^2} + {2bm}\\sum{x} - {2m} \\sum{xy} + {nb^2} - {2b} \\sum{y} + \\sum{y^2} $$</font>\n",
    "\n",
    "<br>\n",
    "<br>\n",
    "Now we need to find where the derivative is 0. Do to so we use partial differentiation (${m}$ & ${b}$)\n",
    "\n",
    "<font size=4>$$E = {m^2} \\sum{x^2} + {2bm}\\sum{x} - {2m} \\sum{xy} + {nb^2} - {2b} \\sum{y} + \\sum{y^2} $$</font>\n",
    "<br>\n",
    "<br>\n",
    "<font size=4>$$\\frac{\\partial E}{\\partial m} = {2m}\\sum{x^2} + {2b}\\sum{x} - 2 \\sum{xy} = 0 $$</font>\n",
    "\n",
    "<font size=4>$$ =\\frac{{2m}\\sum{x^2} + {2b}\\sum{x} - 2 \\sum{xy}}{2} = 0 $$</font>\n",
    "\n",
    "<font size=4>$$ ={m}\\sum{x^2} + {b}\\sum{x} - \\sum{xy} = 0 $$</font>\n",
    "<br>\n",
    "<br>\n",
    "<font size=4>$$\\frac{\\partial E}{\\partial b} = {2m}\\sum{x} + {2nb}- 2 \\sum{y} = 0 $$</font>\n",
    "\n",
    "<font size=4>$$= \\frac{{2m}\\sum{x} + {2nb}- 2 \\sum{y}}{2} = 0 $$</font>\n",
    "\n",
    "<font size=4>$$= {m}\\sum{x} + {nb}- \\sum{y} = 0 $$</font>\n",
    "\n",
    "Making ${b}$ & ${m}$ subject of the formulas:\n",
    "\n",
    "<font size=4>$${m}\\sum{x^2} + {b}\\sum{x} - \\sum{xy} = 0 $$</font>\n",
    "\n",
    "<font size=4>$${m} = \\frac{\\sum{xy} - {b}\\sum{x}}{\\sum{x^2}}  $$</font>\n",
    "<br>\n",
    "<br>\n",
    "<font size=4>$$ {m}\\sum{x} + {nb}- \\sum{y} = 0 $$</font>\n",
    "\n",
    "<font size=4>$${b}= \\frac{\\sum{y} - {m} \\sum{x}}{n} $$</font>\n",
    "\n",
    "Replacing ${b}$ in the formula for ${m}$:\n",
    "\n",
    "<font size=4>$${m} = \\frac{\\sum{xy} - (\\frac{\\sum{y} - {m} \\sum{x}}{n}) \\sum{x}}{\\sum{x^2}}  $$</font>\n",
    "\n",
    "Making ${m}$ subject of the formula:\n",
    "\n",
    "<font size=4>$${m} = \\frac{\\frac{{n}\\sum{xy}-\\sum{x} \\ (\\sum{y}-{m}\\sum{x})}{n}}{\\sum{x^2}} $$</font>\n",
    "\n",
    "<font size=4>$${m} = \\frac{{n}\\sum{xy} - \\sum{x}\\sum{y} + m (\\sum{x}) ^ 2}{{n}} \\cdot \\frac{1}{\\sum{x^2}}$$</font>\n",
    "\n",
    "<font size=4>$${m} = \\frac{{n}\\sum{xy} - \\sum{x}\\sum{y} + m (\\sum{x}) ^ 2}{{n\\sum{x^2}}} $$</font>\n",
    "\n",
    "<font size=4>$${m} - \\frac{{m}(\\sum{x})^2}{{n}\\sum{x^2}} = \\frac{{n}\\sum{xy} - \\sum{x}\\sum{y}}{{n\\sum{x^2}}} $$</font>\n",
    "\n",
    "<font size=4>$${m} \\ (1 - \\frac{(\\sum{x})^2}{{n}\\sum{x^2}}) = \\frac{{n}\\sum{xy} - \\sum{x}\\sum{y}}{{n\\sum{x^2}}} $$</font>\n",
    "\n",
    "<font size=4>$${m} \\ ( \\frac{{n}\\sum{x^2} -(\\sum{x})^2}{{n}\\sum{x^2}}) = \\frac{{n}\\sum{xy} - \\sum{x}\\sum{y}}{{n\\sum{x^2}}} $$</font>\n",
    "\n",
    "<font size=4>$${m} = \\frac{\\frac{{n}\\sum{xy} - \\sum{x}\\sum{y}}{{n\\sum{x^2}}}}{\\frac{{n}\\sum{x^2} -(\\sum{x})^2}{{n}\\sum{x^2}}} $$</font>\n",
    "\n",
    "<font size=4>$${m} = \\frac{{n}\\sum{xy} - \\sum{x}\\sum{y}}{{n\\sum{x^2}}} \\cdot \\frac{{n}\\sum{x^2}}{{n}\\sum{x^2} -(\\sum{x})^2}$$</font>\n",
    "\n",
    "\n",
    "<font size=4>$${m} = \\frac{{n}\\sum{xy} - \\sum{x}\\sum{y}}{{n}\\sum{x^2} -(\\sum{x})^2}$$</font>\n",
    "\n",
    "<br>\n",
    "<br>\n",
    "Replacing ${m}$ in the formula for ${b}$:\n",
    "\n",
    "<font size=4>$${b}= \\frac{\\sum{y} - (\\frac{\\sum{xy} - {b}\\sum{x}}{\\sum{x^2}}) \\sum{x}}{n} $$</font>\n",
    "\n",
    "Making ${b}$ subject of the formula:\n",
    "\n",
    "<font size=4>$${b}= \\frac{\\frac{\\sum{x^2}\\sum{y} - \\sum{x}\\sum{xy}+{b}(\\sum{x})^2}{\\sum{x^2}}}{n} $$</font>\n",
    "\n",
    "<font size=4>$${b}= \\frac{\\sum{x^2}\\sum{y} - \\sum{x}\\sum{xy}+{b}(\\sum{x})^2}{\\sum{x^2}} \\cdot \\frac{1}{n} $$</font>\n",
    "\n",
    "<font size=4>$${b}= \\frac{\\sum{x^2}\\sum{y} - \\sum{x}\\sum{xy}+{b}(\\sum{x})^2}{{n}\\sum{x^2}} $$</font>\n",
    "\n",
    "<font size=4>$${b} - \\frac{{b}(\\sum{x})^2}{{n}\\sum{x^2}} = \\frac{\\sum{x^2}\\sum{y} - \\sum{x}\\sum{xy}}{{n}\\sum{x^2}} $$</font>\n",
    "\n",
    "<font size=4>$${b} \\ (1 - \\frac{(\\sum{x})^2}{{n}\\sum{x^2}}) = \\frac{\\sum{x^2}\\sum{y} - \\sum{x}\\sum{xy}}{{n}\\sum{x^2}} $$</font>\n",
    "\n",
    "<font size=4>$${b} \\ (\\frac{{n}\\sum{x^2} - (\\sum{x})^2}{{n}\\sum{x^2}}) = \\frac{\\sum{x^2}\\sum{y} - \\sum{x}\\sum{xy}}{{n}\\sum{x^2}} $$</font>\n",
    "\n",
    "<font size=4>$${b} = \\frac{\\frac{\\sum{x^2}\\sum{y} - \\sum{x}\\sum{xy}}{{n}\\sum{x^2}}}{\\frac{{n}\\sum{x^2} - (\\sum{x})^2}{{n}\\sum{x^2}}} $$</font>\n",
    "\n",
    "<font size=4>$${b} = \\frac{\\sum{x^2}\\sum{y} - \\sum{x}\\sum{xy}}{{n}\\sum{x^2}} \\cdot \\frac{{n}\\sum{x^2}}{ {n}\\sum{x^2} - (\\sum{x})^2} $$</font>\n",
    "\n",
    "<font size=4>$${b} = \\frac{\\sum{x^2}\\sum{y} - \\sum{x}\\sum{xy}} {{n}\\sum{x^2} - (\\sum{x})^2} $$</font>"
   ]
  }
 ],
 "metadata": {
  "kernelspec": {
   "display_name": "Python [conda env:ics5110]",
   "language": "python",
   "name": "conda-env-ics5110-py"
  },
  "language_info": {
   "codemirror_mode": {
    "name": "ipython",
    "version": 3
   },
   "file_extension": ".py",
   "mimetype": "text/x-python",
   "name": "python",
   "nbconvert_exporter": "python",
   "pygments_lexer": "ipython3",
   "version": "3.7.0"
  }
 },
 "nbformat": 4,
 "nbformat_minor": 2
}
